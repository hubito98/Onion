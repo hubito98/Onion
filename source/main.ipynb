{
 "cells": [
  {
   "cell_type": "code",
   "execution_count": 1,
   "metadata": {},
   "outputs": [],
   "source": [
    "%matplotlib inline\n"
   ]
  },
  {
   "cell_type": "code",
   "execution_count": null,
   "metadata": {},
   "outputs": [],
   "source": [
    "import tools\n",
    "import layer\n",
    "import nn\n",
    "import matplotlib.pyplot as plt\n",
    "import pandas as pd\n",
    "import random"
   ]
  },
  {
   "cell_type": "heading",
   "metadata": {},
   "level": 1,
   "source": [
    "Generate random data"
   ]
  },
  {
   "cell_type": "code",
   "execution_count": null,
   "metadata": {},
   "outputs": [],
   "source": [
    "data_size = 100\n",
    "\n",
    "x = [[random.random() * 200.0 - 100] for i in range(data_size)]\n",
    "y = [[x[i][0] * -3.2 + 5 + random.random() * 100 - 50] for i in range(data_size)]"
   ]
  },
  {
   "cell_type": "heading",
   "metadata": {},
   "level": 1,
   "source": [
    "Plot y(x) "
   ]
  },
  {
   "cell_type": "code",
   "execution_count": null,
   "metadata": {},
   "outputs": [],
   "source": [
    "plt.scatter(x, y, c='g')\n",
    "plt.show()"
   ]
  },
  {
   "cell_type": "heading",
   "metadata": {},
   "level": 1,
   "source": [
    "Create out model"
   ]
  },
  {
   "cell_type": "heading",
   "metadata": {},
   "level": 2,
   "source": [
    "one layer with 1 input and one output (1 neuron)"
   ]
  },
  {
   "cell_type": "code",
   "execution_count": 5,
   "metadata": {},
   "outputs": [],
   "source": [
    "model = nn.Network([\n",
    "    layer.Layer(1, 1)\n",
    "], loss_function=tools.MeanSquaredError, optimizer=tools.Momentum)"
   ]
  },
  {
   "cell_type": "heading",
   "metadata": {},
   "level": 1,
   "source": [
    "Prediction of untrained model"
   ]
  },
  {
   "cell_type": "code",
   "execution_count": 6,
   "metadata": {},
   "outputs": [],
   "source": [
    "prediction = list()\n",
    "\n",
    "for feature in x:\n",
    "    prediction.append(model.predict(feature)[0])"
   ]
  },
  {
   "cell_type": "heading",
   "metadata": {},
   "level": 1,
   "source": [
    "Train model on 10 epochs with learining rate 0.00001"
   ]
  },
  {
   "cell_type": "code",
   "execution_count": 7,
   "metadata": {
    "collapsed": false
   },
   "outputs": [
    {
     "name": "stdout",
     "output_type": "stream",
     "text": [
      "Epoch 1/10, loss: [3664.527554027368]\nEpoch 2/10, loss: [1006.4717841689727]\nEpoch 3/10, loss: [1002.9061936345825]\nEpoch 4/10, loss: [1001.3701268844758]\nEpoch 5/10, loss: [999.873153444869]\nEpoch 6/10, loss: [998.4288656733904]\nEpoch 7/10, loss: [997.0354137295215]\nEpoch 8/10, loss: [995.6911322226167]\nEpoch 9/10, loss: [994.3944076269403]\nEpoch 10/10, loss: [993.1436777192965]\n"
     ]
    }
   ],
   "source": [
    "model.fit(x, y, epochs=10, learning_rate=0.00001)"
   ]
  },
  {
   "cell_type": "heading",
   "metadata": {},
   "level": 1,
   "source": [
    "Prediction of trained model"
   ]
  },
  {
   "cell_type": "code",
   "execution_count": 8,
   "metadata": {},
   "outputs": [],
   "source": [
    "# prediction of trained model\n",
    "trained_prediction = list()\n",
    "\n",
    "for feature in x:\n",
    "    trained_prediction.append(model.predict(feature)[0])"
   ]
  },
  {
   "cell_type": "heading",
   "metadata": {},
   "level": 1,
   "source": [
    "Plot y(x), prediction(x) and trained_prediction(x)"
   ]
  },
  {
   "cell_type": "code",
   "execution_count": 9,
   "metadata": {
    "collapsed": false
   },
   "outputs": [
    {
     "data": {
      "image/png": "[encoded data removed]",
      "text/plain": [
       "<Figure size 432x288 with 1 Axes>"
      ]
     },
     "metadata": {},
     "output_type": "display_data"
    }
   ],
   "source": [
    "plt.scatter(x, y, c='g')\n",
    "plt.scatter(x, prediction, c='r')\n",
    "plt.scatter(x, trained_prediction, c='b')\n",
    "plt.show()"
   ]
  },
  {
   "cell_type": "code",
   "execution_count": 10,
   "metadata": {},
   "outputs": [],
   "source": [
    "import numpy as np\n",
    "\n",
    "data = pd.read_csv(\"../data/train.csv\")\n",
    "\n",
    "data = data.iloc[np.random.permutation(len(data))]\n",
    "\n",
    "# normalizing data\n",
    "data_stats = data.describe().transpose()\n",
    "data['rm'] = (data['rm'] - data_stats['min']['rm']) / (data_stats['max']['rm'] - data_stats['min']['rm'])\n",
    "data['lstat'] = (data['lstat'] - data_stats['min']['lstat']) / (data_stats['max']['lstat'] - data_stats['min']['lstat'])\n",
    "data['crim'] = (data['crim'] - data_stats['min']['crim']) / (data_stats['max']['crim'] - data_stats['min']['crim'])\n"
   ]
  },
  {
   "cell_type": "code",
   "execution_count": 11,
   "metadata": {},
   "outputs": [],
   "source": [
    "boston_housing_model = nn.Network([\n",
    "    layer.Layer(3, 4, activation=tools.Relu),\n",
    "    layer.Layer(4, 1)\n",
    "], loss_function=tools.MeanSquaredError, optimizer=tools.Momentum)\n"
   ]
  },
  {
   "cell_type": "code",
   "execution_count": 12,
   "metadata": {},
   "outputs": [],
   "source": [
    "features = list()\n",
    "labels = list()\n",
    "\n",
    "for x1, x2, x3, y in zip(data['rm'], data['lstat'], data['crim'], data['medv']):\n",
    "    features.append([x1, x2, x3])\n",
    "    labels.append([y])"
   ]
  },
  {
   "cell_type": "code",
   "execution_count": 13,
   "metadata": {
    "collapsed": false
   },
   "outputs": [
    {
     "name": "stdout",
     "output_type": "stream",
     "text": [
      "Epoch 1/50, loss: [201.3992091920603]\nEpoch 2/50, loss: [76.18095692519915]\nEpoch 3/50, loss: [60.550132844152735]\nEpoch 4/50, loss: [49.14361070524059]\nEpoch 5/50, loss: [41.516206996912345]\nEpoch 6/50, loss: [36.932402933185884]\nEpoch 7/50, loss: [34.44087746789315]\n"
     ]
    },
    {
     "name": "stdout",
     "output_type": "stream",
     "text": [
      "Epoch 8/50, loss: [33.02850188111613]\nEpoch 9/50, loss: [32.01651749221327]\nEpoch 10/50, loss: [31.263077161271678]\nEpoch 11/50, loss: [30.61242170459315]\nEpoch 12/50, loss: [29.985057569029998]\nEpoch 13/50, loss: [29.459376114427727]\nEpoch 14/50, loss: [28.974560899500602]\n"
     ]
    },
    {
     "name": "stdout",
     "output_type": "stream",
     "text": [
      "Epoch 15/50, loss: [28.445476913626088]\nEpoch 16/50, loss: [28.01706055672257]\nEpoch 17/50, loss: [27.66352547577375]\nEpoch 18/50, loss: [27.30003891285985]\nEpoch 19/50, loss: [26.95739399597368]\nEpoch 20/50, loss: [26.638140408434815]\nEpoch 21/50, loss: [26.367329426967814]\n"
     ]
    },
    {
     "name": "stdout",
     "output_type": "stream",
     "text": [
      "Epoch 22/50, loss: [26.196877929070656]\nEpoch 23/50, loss: [26.053199933992882]\nEpoch 24/50, loss: [25.931438344552276]\nEpoch 25/50, loss: [25.814148672100174]\nEpoch 26/50, loss: [25.567280976531435]\nEpoch 27/50, loss: [25.341316338356275]\nEpoch 28/50, loss: [25.183318399655086]\n"
     ]
    },
    {
     "name": "stdout",
     "output_type": "stream",
     "text": [
      "Epoch 29/50, loss: [25.064009594577012]\nEpoch 30/50, loss: [24.958823243626682]\nEpoch 31/50, loss: [24.827293870261066]\nEpoch 32/50, loss: [24.695223374250556]\nEpoch 33/50, loss: [24.58957846536644]\nEpoch 34/50, loss: [24.479518665916967]\n"
     ]
    },
    {
     "name": "stdout",
     "output_type": "stream",
     "text": [
      "Epoch 35/50, loss: [24.374360962042676]\nEpoch 36/50, loss: [24.259908990781646]\nEpoch 37/50, loss: [24.151431842803724]\nEpoch 38/50, loss: [24.046363447578898]\nEpoch 39/50, loss: [23.97189851282227]\nEpoch 40/50, loss: [23.90993854581907]\nEpoch 41/50, loss: [23.824510648713158]\nEpoch 42/50, loss: [23.740652161219387]\n"
     ]
    },
    {
     "name": "stdout",
     "output_type": "stream",
     "text": [
      "Epoch 43/50, loss: [23.675594240614952]\nEpoch 44/50, loss: [23.592741409441384]\nEpoch 45/50, loss: [23.518531588885907]\nEpoch 46/50, loss: [23.444323035436142]\nEpoch 47/50, loss: [23.37079324947084]\nEpoch 48/50, loss: [23.301797569476452]\nEpoch 49/50, loss: [23.236645416677053]\nEpoch 50/50, loss: [23.166776467825443]\nMean squared error: [18.925508330083247]\n"
     ]
    }
   ],
   "source": [
    "boston_housing_model.fit(features[:200], labels[:200], epochs=50, learning_rate=0.00005)\n",
    "boston_housing_model.evaluate(features[200:], labels[200:])"
   ]
  },
  {
   "cell_type": "code",
   "execution_count": 14,
   "metadata": {},
   "outputs": [],
   "source": [
    "prediction = list()\n",
    "\n",
    "for features_sample in features:\n",
    "    prediction.append(boston_housing_model.predict(features_sample)[0])"
   ]
  },
  {
   "cell_type": "code",
   "execution_count": 15,
   "metadata": {
    "collapsed": false
   },
   "outputs": [
    {
     "data": {
      "image/png": "[encoded data removed]",
      "text/plain": [
       "<Figure size 432x288 with 1 Axes>"
      ]
     },
     "metadata": {},
     "output_type": "display_data"
    },
    {
     "data": {
      "image/png": "[encoded data removed]",
      "text/plain": [
       "<Figure size 432x288 with 1 Axes>"
      ]
     },
     "metadata": {},
     "output_type": "display_data"
    },
    {
     "data": {
      "image/png": "[encoded data removed]",
      "text/plain": [
       "<Figure size 432x288 with 1 Axes>"
      ]
     },
     "metadata": {},
     "output_type": "display_data"
    }
   ],
   "source": [
    "axes = plt.axes()\n",
    "plt.scatter(data['rm'][200:], data['medv'][200:], c='g')\n",
    "plt.scatter(data['rm'][200:], prediction[200:], c='r')\n",
    "axes.set_ylabel(\"medv\")\n",
    "axes.set_xlabel('rm')\n",
    "plt.show()\n",
    "\n",
    "axes = plt.axes()\n",
    "plt.scatter(data['lstat'][200:], data['medv'][200:], c='g')\n",
    "plt.scatter(data['lstat'][200:], prediction[200:], c='r')\n",
    "axes.set_ylabel(\"medv\")\n",
    "axes.set_xlabel('lstat')\n",
    "plt.show()\n",
    "\n",
    "axes = plt.axes()\n",
    "plt.scatter(data['indus'][200:], data['medv'][200:], c='g')\n",
    "plt.scatter(data['indus'][200:], prediction[200:], c='r')\n",
    "axes.set_ylabel(\"medv\")\n",
    "axes.set_xlabel('indus')\n",
    "plt.show()"
   ]
  },
  {
   "cell_type": "code",
   "execution_count": null,
   "metadata": {},
   "outputs": [],
   "source": []
  }
 ],
 "metadata": {
  "kernelspec": {
   "display_name": "Python 2",
   "language": "python",
   "name": "python2"
  },
  "language_info": {
   "codemirror_mode": {
    "name": "ipython",
    "version": 2
   },
   "file_extension": ".py",
   "mimetype": "text/x-python",
   "name": "python",
   "nbconvert_exporter": "python",
   "pygments_lexer": "ipython2",
   "version": "2.7.6"
  }
 },
 "nbformat": 4,
 "nbformat_minor": 0
}
